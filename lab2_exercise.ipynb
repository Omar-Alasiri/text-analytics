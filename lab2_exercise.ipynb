{
 "cells": [
  {
   "cell_type": "code",
   "execution_count": 3,
   "id": "7ae7f83d-c2fc-45d3-bfca-ce911b95e692",
   "metadata": {},
   "outputs": [],
   "source": [
    "import re"
   ]
  },
  {
   "cell_type": "code",
   "execution_count": 7,
   "id": "a8d412eb-12ca-44b5-86bd-c4e8f86baeb5",
   "metadata": {},
   "outputs": [
    {
     "name": "stdout",
     "output_type": "stream",
     "text": [
      "Digits found: ['2', '4', '5', '6', '7', '8', '9', '3', '4', '1', '2', '3', '0']\n"
     ]
    }
   ],
   "source": [
    "# Exercise 1\n",
    "text = \"Order number: 24567, Tracking ID: 8934A12, Quantity: 30\"\n",
    "p = r\"[0-9]\"\n",
    "\n",
    "m = re.findall(p, text)\n",
    "print(\"Digits found:\", m)"
   ]
  },
  {
   "cell_type": "code",
   "execution_count": 9,
   "id": "2ad91b6c-7402-4bcf-8dc4-d1b1e20779ce",
   "metadata": {},
   "outputs": [
    {
     "name": "stdout",
     "output_type": "stream",
     "text": [
      "Non-alphanumeric characters: ['!', ' ', \"'\", ' ', ' ', ' ', '?', ' ', ' ', ' ', '@', ' ', '.']\n"
     ]
    }
   ],
   "source": [
    "# Exercise 2\n",
    "text = \"Welcome! How's your day going? Call me @ 3pm.\"\n",
    "p = r\"[\\W]\"\n",
    "\n",
    "m = re.findall(p, text)\n",
    "print(\"Non-alphanumeric characters:\", m)"
   ]
  },
  {
   "cell_type": "code",
   "execution_count": 43,
   "id": "8fddf02f-8331-4c38-a12a-20b043073a39",
   "metadata": {},
   "outputs": [
    {
     "name": "stdout",
     "output_type": "stream",
     "text": [
      "Split text: ['Data Science', ' AI', ' and Machine Learning', ' These fields are growing fast', '']\n"
     ]
    }
   ],
   "source": [
    "# Exercise 3\n",
    "text = \"Data Science, AI, and Machine Learning. These fields are growing fast.\"\n",
    "p = r'[,-.]'\n",
    "\n",
    "s = re.split(p, text)\n",
    "print(\"Split text:\", s)"
   ]
  },
  {
   "cell_type": "code",
   "execution_count": 67,
   "id": "7ba51f35-54fc-4326-a41a-4a77b3340b3f",
   "metadata": {},
   "outputs": [
    {
     "name": "stdout",
     "output_type": "stream",
     "text": [
      "Anonymized text: Contact us at [HIDDEN] or [HIDDEN]\n"
     ]
    }
   ],
   "source": [
    "# Exercise 4\n",
    "text = \"Contact us at support@example.com or info@company.org\"\n",
    "p = r\"[a-zA-Z0-9._%+-]+@[a-zA-Z0-9.-]+\\.[a-zA-Z]{2,}\"\n",
    "new = re.sub(p, \"[HIDDEN]\", text)\n",
    "\n",
    "print(\"Anonymized text:\", new)"
   ]
  },
  {
   "cell_type": "code",
   "execution_count": 69,
   "id": "133606ef-695c-48b1-90d9-139771d56b74",
   "metadata": {},
   "outputs": [
    {
     "name": "stdout",
     "output_type": "stream",
     "text": [
      "Domain types: ['com', 'edu', 'org']\n"
     ]
    }
   ],
   "source": [
    "# Exercise 5\n",
    "text = \"Emails: user@gmail.com, admin@university.edu, info@company.org\"\n",
    "p = r\"@[\\w.-]+\\.([a-zA-Z]{2,})\"\n",
    "m = re.findall(p, text)\n",
    "\n",
    "print(\"Domain types:\", m)"
   ]
  }
 ],
 "metadata": {
  "kernelspec": {
   "display_name": "Python [conda env:base] *",
   "language": "python",
   "name": "conda-base-py"
  },
  "language_info": {
   "codemirror_mode": {
    "name": "ipython",
    "version": 3
   },
   "file_extension": ".py",
   "mimetype": "text/x-python",
   "name": "python",
   "nbconvert_exporter": "python",
   "pygments_lexer": "ipython3",
   "version": "3.12.7"
  }
 },
 "nbformat": 4,
 "nbformat_minor": 5
}
