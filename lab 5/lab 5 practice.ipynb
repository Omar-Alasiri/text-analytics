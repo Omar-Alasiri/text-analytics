{
 "cells": [
  {
   "cell_type": "markdown",
   "id": "ff62db3d-be09-4e32-a9c6-1649e484cb2e",
   "metadata": {},
   "source": [
    "Creating the Bag of Words Code"
   ]
  },
  {
   "cell_type": "code",
   "execution_count": 1,
   "id": "7c1798fd-92b6-4334-875b-b1b0c61dc349",
   "metadata": {},
   "outputs": [],
   "source": [
    "# Import libraries\n",
    "from collections import Counter\n",
    "import pandas as pd"
   ]
  },
  {
   "cell_type": "code",
   "execution_count": 3,
   "id": "c6c82608-df80-4b85-a992-62dca0752500",
   "metadata": {},
   "outputs": [],
   "source": [
    "# Load the CSV file\n",
    "file_path = \"Processed_Reviews.csv\"\n",
    "df = pd.read_csv(file_path)"
   ]
  },
  {
   "cell_type": "code",
   "execution_count": 5,
   "id": "d25260f6-ed79-4d56-a0fb-9ac5e0d41354",
   "metadata": {},
   "outputs": [],
   "source": [
    "# Extract the tokenized text data\n",
    "tokenized_reviews = df['tokenized'].dropna().apply(eval)"
   ]
  },
  {
   "cell_type": "code",
   "execution_count": 9,
   "id": "b3bf60f8-08bd-4d8e-a3fa-f45202bab8fd",
   "metadata": {},
   "outputs": [],
   "source": [
    "# List all unique word in the CSV file\n",
    "all_words = [word for review in tokenized_reviews for word in review]\n",
    "unique_words = list(set(all_words))"
   ]
  },
  {
   "cell_type": "code",
   "execution_count": 13,
   "id": "ec2b5860-0548-46be-8e0f-45a16997f97f",
   "metadata": {},
   "outputs": [],
   "source": [
    "# Create word frequency table for the text data\n",
    "word_freq = Counter(all_words)\n",
    "sorted_word_freq = dict(sorted(word_freq.items(), key = lambda item: item[1], reverse = True))"
   ]
  },
  {
   "cell_type": "code",
   "execution_count": 15,
   "id": "c2d5b76f-18b0-403b-b520-a0e023f98672",
   "metadata": {},
   "outputs": [],
   "source": [
    "# Create document vectors for the text data\n",
    "document_vectors = []\n",
    "for review in tokenized_reviews:\n",
    "    document_vector = [1 if word in review else 0 for word in sorted_word_freq.keys()]\n",
    "    document_vectors.append(document_vector)"
   ]
  },
  {
   "cell_type": "code",
   "execution_count": 21,
   "id": "9fec8756-094d-4e46-8a41-a2104c17b70b",
   "metadata": {},
   "outputs": [],
   "source": [
    "# Covert the document vectors to DataFrames\n",
    "doc_vectors_df = pd.DataFrame(document_vectors, columns = sorted_word_freq.keys())"
   ]
  },
  {
   "cell_type": "code",
   "execution_count": 23,
   "id": "0fd8c697-74ec-44fd-adc6-226108d36340",
   "metadata": {},
   "outputs": [],
   "source": [
    "# Save the processed data into a CSV file\n",
    "doc_vectors_df.to_csv(\"document_vectors.csv\", index = False)"
   ]
  },
  {
   "cell_type": "code",
   "execution_count": 27,
   "id": "fc8c6f84-8056-4771-896c-f57e824e172a",
   "metadata": {},
   "outputs": [
    {
     "name": "stdout",
     "output_type": "stream",
     "text": [
      "Word Frequency Table:\n",
      "           Word  Frequency\n",
      "0       product          7\n",
      "1       quality          3\n",
      "2         great          2\n",
      "3       amazing          2\n",
      "4          love          2\n",
      "5       awesome          2\n",
      "6          work          2\n",
      "7     perfectly          2\n",
      "8          life          2\n",
      "9        expect          2\n",
      "10       arrive          1\n",
      "11         time          1\n",
      "12    packaging          1\n",
      "13        amaze          1\n",
      "14          buy          1\n",
      "15        phone          1\n",
      "16           hz          1\n",
      "17      display          1\n",
      "18      totally          1\n",
      "19        worth          1\n",
      "20          wow          1\n",
      "21          bit          1\n",
      "22    expensive          1\n",
      "23       laptop          1\n",
      "24         fine          1\n",
      "25        check          1\n",
      "26         full          1\n",
      "27       detail          1\n",
      "28     purchase          1\n",
      "29        happy          1\n",
      "30      battery          1\n",
      "31    excellent          1\n",
      "32       charge          1\n",
      "33        cable          1\n",
      "34        short          1\n",
      "35          can          1\n",
      "36          not          1\n",
      "37      believe          1\n",
      "38         good          1\n",
      "39         fast          1\n",
      "40     delivery          1\n",
      "41       honest          1\n",
      "42         much          1\n",
      "43           oh          1\n",
      "44          god          1\n",
      "45         best          1\n",
      "46         ever          1\n",
      "47          use          1\n",
      "48         shoe          1\n",
      "49  comfortable          1\n",
      "50          fit          1\n",
      "51       nicely          1\n",
      "52          jog          1\n"
     ]
    }
   ],
   "source": [
    "# Display the word frequency table\n",
    "word_freq_df = pd.DataFrame(list(sorted_word_freq.items()), columns = [\"Word\", \"Frequency\"])\n",
    "print(\"Word Frequency Table:\")\n",
    "print(word_freq_df)"
   ]
  }
 ],
 "metadata": {
  "kernelspec": {
   "display_name": "Python [conda env:base] *",
   "language": "python",
   "name": "conda-base-py"
  },
  "language_info": {
   "codemirror_mode": {
    "name": "ipython",
    "version": 3
   },
   "file_extension": ".py",
   "mimetype": "text/x-python",
   "name": "python",
   "nbconvert_exporter": "python",
   "pygments_lexer": "ipython3",
   "version": "3.12.7"
  }
 },
 "nbformat": 4,
 "nbformat_minor": 5
}
