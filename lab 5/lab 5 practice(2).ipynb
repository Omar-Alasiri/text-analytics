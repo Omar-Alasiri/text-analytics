{
 "cells": [
  {
   "cell_type": "markdown",
   "id": "af67f74a-dfbc-4538-b9b0-c50e9e6b573e",
   "metadata": {},
   "source": [
    "Compute TF-IDF Code"
   ]
  },
  {
   "cell_type": "code",
   "execution_count": 64,
   "id": "c50241ef-5fbc-4826-92e5-7de8bef43743",
   "metadata": {},
   "outputs": [],
   "source": [
    "# Import libraries\n",
    "import pandas as pd\n",
    "import math\n",
    "from collections import Counter"
   ]
  },
  {
   "cell_type": "code",
   "execution_count": 66,
   "id": "e36306e1-60c7-4c50-a77e-606fd8a9bacb",
   "metadata": {},
   "outputs": [],
   "source": [
    "# Load the CSV file\n",
    "file_path = \"Processed_Reviews.csv\"\n",
    "df = pd.read_csv(file_path)"
   ]
  },
  {
   "cell_type": "code",
   "execution_count": 68,
   "id": "86832811-87f0-43a0-a7ef-845dd70016fa",
   "metadata": {},
   "outputs": [],
   "source": [
    "# Extract the tokenized text data\n",
    "tokenized_reviews = df['tokenized'].dropna().apply(eval)"
   ]
  },
  {
   "cell_type": "code",
   "execution_count": 70,
   "id": "23636177-bcba-4154-9e1c-03372b396d49",
   "metadata": {},
   "outputs": [],
   "source": [
    "# Define a function that compute Term Frequency (TF)\n",
    "def compute_tf(document):\n",
    "    word_count = Counter(document)\n",
    "    tf = {word: count / len(document) for word, count in word_count.items()}\n",
    "    return tf"
   ]
  },
  {
   "cell_type": "code",
   "execution_count": 72,
   "id": "ec9bc173-1c05-4916-976f-0afc65630cf9",
   "metadata": {},
   "outputs": [],
   "source": [
    "# Define a function that compute Inverse Document Frequency (IDF)\n",
    "def compute_idf(documents):\n",
    "    N = len(documents) # Total number of documents\n",
    "    idf = {}\n",
    "    all_words = set(word for doc in documents for word in doc) # Unique words\n",
    "    for word in all_words:\n",
    "        count = sum(1 for doc in documents if word in doc)\n",
    "        idf[word] = math.log(N / count)\n",
    "    return idf"
   ]
  },
  {
   "cell_type": "code",
   "execution_count": 74,
   "id": "2204d980-a35d-448f-af3a-6bfeeb123966",
   "metadata": {},
   "outputs": [],
   "source": [
    "# Define a function that compute TF-IDF\n",
    "def compute_tfidf(document, idf):\n",
    "    tfidf = {}\n",
    "    tf = compute_tf(document) # Get TF values for the document\n",
    "    for word, tf_value in tf.items():\n",
    "        tfidf[word] = tf_value * idf[word] # Multiply TF and IDF\n",
    "    return tfidf"
   ]
  },
  {
   "cell_type": "code",
   "execution_count": 76,
   "id": "e94b991f-c66e-486c-8524-5a51d2d6917a",
   "metadata": {},
   "outputs": [],
   "source": [
    "# Convert tokenized reviews into a list\n",
    "documents = tokenized_reviews.tolist()"
   ]
  },
  {
   "cell_type": "code",
   "execution_count": 78,
   "id": "ae1b59a6-c770-4abb-8379-2f8afa9ee23c",
   "metadata": {},
   "outputs": [],
   "source": [
    "# Compute TF scores, convert to DataFrame and save to a CSV file\n",
    "tf_data = [compute_tf(doc) for doc in documents]\n",
    "tf_df = pd.DataFrame(tf_data).fillna(0)\n",
    "tf_df.to_csv(\"tf_scores.csv\", index = False)"
   ]
  },
  {
   "cell_type": "code",
   "execution_count": 80,
   "id": "e7f6d5ec-9be6-4a7e-91d9-76e200355007",
   "metadata": {},
   "outputs": [],
   "source": [
    "# Compute IDF scores, convert to DataFrame and save to a CSV file\n",
    "idf = compute_idf(documents)\n",
    "idf_df = pd.DataFrame([idf]).fillna(0)\n",
    "idf_df.to_csv(\"idf_scores.csv\", index = False)"
   ]
  },
  {
   "cell_type": "code",
   "execution_count": 82,
   "id": "1906aea0-f1ef-490e-9618-b3741823ba1e",
   "metadata": {},
   "outputs": [],
   "source": [
    "tfidf_data = [compute_tfidf(doc, idf) for doc in documents]\n",
    "tfidf_df = pd.DataFrame(tfidf_data).fillna(0)\n",
    "tfidf_df.to_csv(\"tfidf_scores.csv\", index=False)"
   ]
  }
 ],
 "metadata": {
  "kernelspec": {
   "display_name": "Python [conda env:base] *",
   "language": "python",
   "name": "conda-base-py"
  },
  "language_info": {
   "codemirror_mode": {
    "name": "ipython",
    "version": 3
   },
   "file_extension": ".py",
   "mimetype": "text/x-python",
   "name": "python",
   "nbconvert_exporter": "python",
   "pygments_lexer": "ipython3",
   "version": "3.12.7"
  }
 },
 "nbformat": 4,
 "nbformat_minor": 5
}
