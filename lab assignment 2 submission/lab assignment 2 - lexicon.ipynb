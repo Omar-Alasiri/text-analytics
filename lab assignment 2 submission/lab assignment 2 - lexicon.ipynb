{
 "cells": [
  {
   "cell_type": "code",
   "execution_count": null,
   "id": "53f826ef-1757-4081-8ff5-0abec892ff64",
   "metadata": {},
   "outputs": [],
   "source": [
    "'''\n",
    "Student Name: Alasiri Omar Abdullah\n",
    "Student ID: IS01082222\n",
    "'''\n",
    "\n",
    "'''\n",
    "By testing Lexicon techniques, it turns out that VADER is faster in processing and predicting,\n",
    "VADER is easy to code and modify. VADER is better than TextBlob for social media and sentiment\n",
    "analysis because it is specifically tuned to handle slang, emojis, and intensifiers.\n",
    "'''"
   ]
  },
  {
   "cell_type": "code",
   "execution_count": 3,
   "id": "9ad6ba1b-b90e-4f34-9664-12b77a8045e1",
   "metadata": {},
   "outputs": [],
   "source": [
    "import pandas as pd\n",
    "from textblob import TextBlob\n",
    "from vaderSentiment.vaderSentiment import SentimentIntensityAnalyzer\n",
    "from tabulate import tabulate"
   ]
  },
  {
   "cell_type": "code",
   "execution_count": 4,
   "id": "b02da69a-da1b-4260-af1f-6c058055e62c",
   "metadata": {},
   "outputs": [
    {
     "data": {
      "text/html": [
       "<div>\n",
       "<style scoped>\n",
       "    .dataframe tbody tr th:only-of-type {\n",
       "        vertical-align: middle;\n",
       "    }\n",
       "\n",
       "    .dataframe tbody tr th {\n",
       "        vertical-align: top;\n",
       "    }\n",
       "\n",
       "    .dataframe thead th {\n",
       "        text-align: right;\n",
       "    }\n",
       "</style>\n",
       "<table border=\"1\" class=\"dataframe\">\n",
       "  <thead>\n",
       "    <tr style=\"text-align: right;\">\n",
       "      <th></th>\n",
       "      <th>lemmatized</th>\n",
       "      <th>Text</th>\n",
       "      <th>Score</th>\n",
       "      <th>Sentiment</th>\n",
       "    </tr>\n",
       "  </thead>\n",
       "  <tbody>\n",
       "    <tr>\n",
       "      <th>0</th>\n",
       "      <td>buy several vitality can dog food product find...</td>\n",
       "      <td>I have bought several of the Vitality canned d...</td>\n",
       "      <td>5</td>\n",
       "      <td>positive</td>\n",
       "    </tr>\n",
       "    <tr>\n",
       "      <th>1</th>\n",
       "      <td>product arrive labeled jumbo salt peanutsthe p...</td>\n",
       "      <td>Product arrived labeled as Jumbo Salted Peanut...</td>\n",
       "      <td>1</td>\n",
       "      <td>negative</td>\n",
       "    </tr>\n",
       "    <tr>\n",
       "      <th>2</th>\n",
       "      <td>confection around century light pillowy citrus...</td>\n",
       "      <td>This is a confection that has been around a fe...</td>\n",
       "      <td>4</td>\n",
       "      <td>positive</td>\n",
       "    </tr>\n",
       "    <tr>\n",
       "      <th>3</th>\n",
       "      <td>look secret ingredient robitussin believe find...</td>\n",
       "      <td>If you are looking for the secret ingredient i...</td>\n",
       "      <td>2</td>\n",
       "      <td>negative</td>\n",
       "    </tr>\n",
       "    <tr>\n",
       "      <th>4</th>\n",
       "      <td>great taffy great price wide assortment yummy ...</td>\n",
       "      <td>Great taffy at a great price.  There was a wid...</td>\n",
       "      <td>5</td>\n",
       "      <td>positive</td>\n",
       "    </tr>\n",
       "  </tbody>\n",
       "</table>\n",
       "</div>"
      ],
      "text/plain": [
       "                                          lemmatized  \\\n",
       "0  buy several vitality can dog food product find...   \n",
       "1  product arrive labeled jumbo salt peanutsthe p...   \n",
       "2  confection around century light pillowy citrus...   \n",
       "3  look secret ingredient robitussin believe find...   \n",
       "4  great taffy great price wide assortment yummy ...   \n",
       "\n",
       "                                                Text  Score Sentiment  \n",
       "0  I have bought several of the Vitality canned d...      5  positive  \n",
       "1  Product arrived labeled as Jumbo Salted Peanut...      1  negative  \n",
       "2  This is a confection that has been around a fe...      4  positive  \n",
       "3  If you are looking for the secret ingredient i...      2  negative  \n",
       "4  Great taffy at a great price.  There was a wid...      5  positive  "
      ]
     },
     "execution_count": 4,
     "metadata": {},
     "output_type": "execute_result"
    }
   ],
   "source": [
    "df = pd.read_csv('labelled_reviews.csv')\n",
    "df.head()"
   ]
  },
  {
   "cell_type": "code",
   "execution_count": 5,
   "id": "5e35b163-78d9-4410-860b-f8b2177bcd27",
   "metadata": {},
   "outputs": [],
   "source": [
    "import pandas as pd\n",
    "from vaderSentiment.vaderSentiment import SentimentIntensityAnalyzer\n",
    "from tabulate import tabulate\n",
    "\n",
    "# Select the relevant column\n",
    "data = df[['lemmatized']].copy()\n",
    "\n",
    "# Initialize VADER sentiment analyzer once\n",
    "analyzer = SentimentIntensityAnalyzer()\n",
    "\n",
    "# Define a function to get VADER sentiment\n",
    "def get_vader_sentiment(text):\n",
    "    if pd.isnull(text):\n",
    "        text = ''\n",
    "    else:\n",
    "        text = str(text)\n",
    "    vs = analyzer.polarity_scores(text)\n",
    "    compound = vs['compound']\n",
    "    if compound > 0.05:\n",
    "        label = 'Positive'\n",
    "    elif compound < -0.05:\n",
    "        label = 'Negative'\n",
    "    else:\n",
    "        label = 'Neutral'\n",
    "    return pd.Series([compound, label])\n",
    "\n",
    "# Apply the function to each row (vectorized)\n",
    "data[['VADER_Compound', 'VADER_Sentiment']] = data['lemmatized'].apply(get_vader_sentiment)"
   ]
  },
  {
   "cell_type": "code",
   "execution_count": 11,
   "id": "61a10177-eea6-46da-91ad-23b25f04184f",
   "metadata": {
    "scrolled": true
   },
   "outputs": [
    {
     "name": "stdout",
     "output_type": "stream",
     "text": [
      "+---------------------------------------------------------------------------------------------------------+----------------+-----------------+\n",
      "|                                               lemmatized                                                | VADER_Compound | VADER_Sentiment |\n",
      "+---------------------------------------------------------------------------------------------------------+----------------+-----------------+\n",
      "| buy several vitality can dog food product find good quality product look like stew process meat smel... |     0.9118     |    Positive     |\n",
      "| product arrive labeled jumbo salt peanutsthe peanut actually small size unsalted sure error vendor i... |    -0.1027     |    Negative     |\n",
      "| confection around century light pillowy citrus gelatin nut case filberts cut tiny square liberally c... |     0.8532     |    Positive     |\n",
      "| look secret ingredient robitussin believe find get addition root beer extract order good make cherry... |     0.4404     |    Positive     |\n",
      "|           great taffy great price wide assortment yummy taffy delivery quick taffy lover deal           |     0.9468     |    Positive     |\n",
      "| get wild hair taffy order five pound bag taffy enjoyable many flavor watermelon root beer melon pepp... |     0.9136     |    Positive     |\n",
      "| saltwater taffy great flavor soft chewy candy individually wrap well none candy stick together happe... |     0.9422     |    Positive     |\n",
      "|             taffy good soft chewy flavor amaze would definitely recommend buying satisfying             |     0.9274     |    Positive     |\n",
      "|                   right mostly sprout cat eat grass love rotate around wheatgrass rye                   |     0.6369     |    Positive     |\n",
      "|       healthy dog food good digestion also good small puppy dog eats require amount every feeding       |     0.8176     |    Positive     |\n",
      "+---------------------------------------------------------------------------------------------------------+----------------+-----------------+\n"
     ]
    }
   ],
   "source": [
    "# --- Improve print sample ---\n",
    "# Create a copy to avoid changing the original\n",
    "sample = data.head(10).copy()\n",
    "\n",
    "# Truncate the long lemmatized text for display\n",
    "sample['lemmatized'] = sample['lemmatized'].apply(lambda x: (x[:100] + '...') if len(x) > 100 else x)\n",
    "\n",
    "# Print nicely\n",
    "print(tabulate(sample, headers='keys', tablefmt='pretty', showindex=False))"
   ]
  }
 ],
 "metadata": {
  "kernelspec": {
   "display_name": "Python [conda env:base] *",
   "language": "python",
   "name": "conda-base-py"
  },
  "language_info": {
   "codemirror_mode": {
    "name": "ipython",
    "version": 3
   },
   "file_extension": ".py",
   "mimetype": "text/x-python",
   "name": "python",
   "nbconvert_exporter": "python",
   "pygments_lexer": "ipython3",
   "version": "3.12.7"
  }
 },
 "nbformat": 4,
 "nbformat_minor": 5
}
