{
 "cells": [
  {
   "cell_type": "markdown",
   "id": "d62268db-a1c8-4584-9a8c-81a104f2b1e5",
   "metadata": {},
   "source": [
    "Welcom to Lab 1"
   ]
  },
  {
   "cell_type": "markdown",
   "id": "b8ec479d-0425-469b-a54c-f002437916bf",
   "metadata": {},
   "source": [
    "Working with Text File"
   ]
  },
  {
   "cell_type": "code",
   "execution_count": 24,
   "id": "11ea7531-c8da-4c73-bffc-b09eb01c1a28",
   "metadata": {},
   "outputs": [
    {
     "name": "stdout",
     "output_type": "stream",
     "text": [
      "Raw Text:\n",
      " Hello, this is a sample text file.\n",
      "This is the second line.\n",
      "Mr. Morgan got a new horse!\n",
      "The horse is high quality horse\n",
      "It is the best horse!\n"
     ]
    }
   ],
   "source": [
    "# Read the content of the text file\n",
    "with open('sample.txt', 'r', encoding='utf-8') as file:\n",
    "    text_data = file.read()\n",
    "print(\"Raw Text:\\n\", text_data)\n",
    "\n",
    "# Store in another file\n",
    "with open('stored_text.txt', 'w', encoding='utf-8') as file:\n",
    "    file.write(text_data)"
   ]
  },
  {
   "cell_type": "markdown",
   "id": "b62fe641-32e9-4241-bf0e-eee9c4ce1621",
   "metadata": {},
   "source": [
    "Working with Structured Data"
   ]
  },
  {
   "cell_type": "code",
   "execution_count": 6,
   "id": "6e3bea40-0820-450b-b050-f47c03a762b9",
   "metadata": {},
   "outputs": [
    {
     "name": "stdout",
     "output_type": "stream",
     "text": [
      "Reviews:\n",
      " 0    The product is amazing!\n",
      "1     Worst experience ever!\n",
      "Name: Review, dtype: object\n"
     ]
    }
   ],
   "source": [
    "import pandas as pd\n",
    "\n",
    "# Read the CSV file\n",
    "df = pd.read_csv('reviews.csv')\n",
    "print(\"Reviews:\\n\", df['Review'].head())\n",
    "\n",
    "# Save the reviews column to a text file\n",
    "df['Review'].to_csv('stored_reviews.txt', index=False, header=False)"
   ]
  },
  {
   "cell_type": "code",
   "execution_count": 8,
   "id": "1a6e0dab-23c0-4043-8f8c-d05a743b37b4",
   "metadata": {},
   "outputs": [
    {
     "name": "stdout",
     "output_type": "stream",
     "text": [
      "First two rows:\n",
      "    ID                   Review\n",
      "0   1  The product is amazing!\n",
      "1   2   Worst experience ever!\n"
     ]
    }
   ],
   "source": [
    "# Read the Excel file\n",
    "df_excel = pd.read_excel('reviews.xlsx', engine='openpyxl')\n",
    "print(\"First two rows:\\n\", df_excel.head(2))\n",
    "\n",
    "# Save the first two rows to a text file\n",
    "df_excel.head(2).to_csv('extracted_excel.txt', index=False)"
   ]
  },
  {
   "cell_type": "code",
   "execution_count": 10,
   "id": "379b3cb0-b886-442c-92d8-0a7ed3ff8736",
   "metadata": {},
   "outputs": [
    {
     "name": "stdout",
     "output_type": "stream",
     "text": [
      "Extracted City: New York\n"
     ]
    }
   ],
   "source": [
    "import json\n",
    "\n",
    "# Read the JSON file\n",
    "with open('social_data.json', 'r', encoding='utf-8') as file:\n",
    " data = json.load(file)\n",
    "print(\"Extracted City:\", data['city'])\n",
    "\n",
    "# Store the extracted city to a file\n",
    "with open('stored_city.txt', 'w', encoding='utf-8') as file:\n",
    " file.write(data['city'])"
   ]
  },
  {
   "cell_type": "markdown",
   "id": "b284eec5-f80c-450f-8da2-6f33583c63a6",
   "metadata": {},
   "source": [
    "Working with Semi-Unstrutured Data"
   ]
  },
  {
   "cell_type": "code",
   "execution_count": 16,
   "id": "3ce6060a-9e50-412a-a7a3-e6b091cf3953",
   "metadata": {},
   "outputs": [
    {
     "name": "stdout",
     "output_type": "stream",
     "text": [
      "Extracted Title: AI is transforming industries\n"
     ]
    }
   ],
   "source": [
    "import xml.etree.ElementTree as ET\n",
    "\n",
    "# Parse the XML file\n",
    "tree = ET.parse('news.xml')\n",
    "root = tree.getroot()\n",
    "for article in root.findall('article'):\n",
    "    title = article.find('title').text\n",
    "    print(\"Extracted Title:\", title)\n",
    "    \n",
    "# Store the extracted title to a file\n",
    "with open('stored_titles.txt', 'w', encoding='utf-8') as file:\n",
    " for article in root.findall('article'):\n",
    "     title = article.find('title').text\n",
    "     file.write(title + '\\n')"
   ]
  },
  {
   "cell_type": "code",
   "execution_count": 20,
   "id": "b657d3fb-2b89-45c1-9b91-5ea9a51ba11f",
   "metadata": {},
   "outputs": [
    {
     "name": "stdout",
     "output_type": "stream",
     "text": [
      "Extracted PDF Text:\n",
      " This is a sample PDF document.  \n",
      "AI is transforming industries and automation.  \n"
     ]
    }
   ],
   "source": [
    "import PyPDF2\n",
    "\n",
    "# Read the PDF file\n",
    "with open('document.pdf', 'rb') as file:\n",
    " reader = PyPDF2.PdfReader(file)\n",
    " text = \"\\n\".join(page.extract_text() for page in reader.pages if page.extract_text())\n",
    "    \n",
    "# Print the extracted text\n",
    "print(\"Extracted PDF Text:\\n\", text)\n",
    "\n",
    "# Store the extracted text in a file\n",
    "with open('stored_pdf_text.txt', 'w', encoding='utf-8') as output:\n",
    " output.write(text)"
   ]
  },
  {
   "cell_type": "code",
   "execution_count": 32,
   "id": "f311335b-d228-4ba8-82b9-0e1e195d7922",
   "metadata": {},
   "outputs": [
    {
     "name": "stdout",
     "output_type": "stream",
     "text": [
      "Business_Proposal:\n",
      " Business Proposal  \n",
      "The Revolution is Coming  \n",
      "Leverage agile frameworks to provide a robust synopsis for high level  \n",
      "overviews. Iterative approaches to corporate strategy foster collaborative  \n",
      "thinking to further the overall value proposition. Organically grow the  \n",
      "holistic world view of disruptive innovation via workplace diversity and  \n",
      "empowerment.  \n",
      "Bring to the table win -win survival strategies to ensure proactive  \n",
      "domination. At the end of the day, going forward, a new normal that has  \n",
      "evolved from generation X is on the runway heading towards a streamlined  \n",
      "cloud solution. User generated content in real -time will have multi ple \n",
      "touchpoints for offshoring.  \n",
      "Capitalize on low hanging fruit to identify a ballpark value added activity to  \n",
      "beta test. Override the digital divide with additional clickthroughs from  \n",
      "DevOps. Nanotechnology immersion along the information highway will  \n",
      "close the loop on focusing solely on the bottom line.  \n",
      "Podcasting operational change management inside of workflows to  \n",
      "establish a framework. Taking seamless key performance indicators offline  \n",
      "to maximise the long tail. Keeping your eye on the ball while perfo rming a  \n",
      "deep dive on the start -up mentality to derive convergence on crossplatform  \n",
      "integration.  \n",
      "Collaboratively administrate empowered markets via plug -and-play \n",
      "networks. Dynamically procrastinate B2C users after installed base  \n",
      "benefits. Dramatically visua lize customer directed convergence without  \n",
      "revolutionary ROI.  \n",
      "Efficiently unleash cross -media information without cross -media value.  \n",
      "Quickly maximize timely deliverables for real -time schemas. Dramatically  \n",
      "maintain clicks -and-mortar solutions without funct ional solutio ns. \n",
      "  \n",
      "AUTHORS:  \n",
      "Amy Baker, Finance Chair, x345, abaker@ourcompany.com  \n",
      "Chris Donaldson, Accounting Dir., x621, cdonaldson@ourcompany.com  \n",
      "Erin Freeman, Sr. VP, x879, efreeman@ourcompany.com  \n"
     ]
    }
   ],
   "source": [
    "import PyPDF2\n",
    "\n",
    "# Read the PDF file\n",
    "with open('Business_Proposal.pdf', 'rb') as file:\n",
    "     reader = PyPDF2.PdfReader(file)\n",
    "     text = \"\\n\".join(page.extract_text() for page in reader.pages if page.extract_text())\n",
    "\n",
    "print(\"Business_Proposal:\\n\", text)\n",
    "\n",
    "with open('Business_Proposal.txt', 'w', encoding='utf-8') as output:\n",
    " output.write(text)"
   ]
  },
  {
   "cell_type": "code",
   "execution_count": 38,
   "id": "51acd7e6-2023-4d24-a217-1e5b8f4257d8",
   "metadata": {},
   "outputs": [
    {
     "name": "stdout",
     "output_type": "stream",
     "text": [
      "AUTHORS:  \n",
      "Amy Baker, Finance Chair, x345, abaker@ourcompany.com  \n",
      "Chris Donaldson, Accounting Dir., x621, cdonaldson@ourcompany.com  \n",
      "Erin Freeman, Sr. VP, x879, efreeman@ourcompany.com  \n"
     ]
    }
   ],
   "source": [
    "from PyPDF2 import PdfReader\n",
    "\n",
    "reader = PdfReader(\"Business_Proposal.pdf\")  # Load the PDF file\n",
    "page_number = 1  # Page numbers in PyPDF2 are zero-based, so Page 2 is index 1\n",
    "\n",
    "text = reader.pages[page_number].extract_text()  # Extract text from page 2\n",
    "\n",
    "print(text)\n",
    "\n",
    "with open('Business_Proposal-page2.txt', 'w', encoding='utf-8') as output:\n",
    " output.write(text)"
   ]
  },
  {
   "cell_type": "code",
   "execution_count": null,
   "id": "ccdaeba3-f6a3-46a7-adce-f5c5ca2b6ce4",
   "metadata": {},
   "outputs": [],
   "source": []
  }
 ],
 "metadata": {
  "kernelspec": {
   "display_name": "Python [conda env:base] *",
   "language": "python",
   "name": "conda-base-py"
  },
  "language_info": {
   "codemirror_mode": {
    "name": "ipython",
    "version": 3
   },
   "file_extension": ".py",
   "mimetype": "text/x-python",
   "name": "python",
   "nbconvert_exporter": "python",
   "pygments_lexer": "ipython3",
   "version": "3.12.7"
  }
 },
 "nbformat": 4,
 "nbformat_minor": 5
}
